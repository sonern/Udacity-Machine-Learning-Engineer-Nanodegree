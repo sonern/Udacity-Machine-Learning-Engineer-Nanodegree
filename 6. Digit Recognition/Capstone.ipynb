{
 "cells": [
  {
   "cell_type": "code",
   "execution_count": 1,
   "metadata": {},
   "outputs": [],
   "source": [
    "#Import necessary libraries\n",
    "import pandas as pd\n",
    "import numpy as np\n",
    "from sklearn.metrics import confusion_matrix\n",
    "from sklearn import svm\n",
    "from sklearn.model_selection import train_test_split\n",
    "from sklearn.metrics import precision_recall_fscore_support\n",
    "from sklearn.decomposition import PCA\n",
    "import matplotlib.pyplot as plt"
   ]
  },
  {
   "cell_type": "code",
   "execution_count": 2,
   "metadata": {},
   "outputs": [],
   "source": [
    "#Import data from UCI Machine Learning Depository\n",
    "raw_data = pd.read_csv(\"http://archive.ics.uci.edu/ml/machine-learning-databases/semeion/semeion.data\", delimiter = r\"\\s+\",\n",
    "                header=None )"
   ]
  },
  {
   "cell_type": "code",
   "execution_count": 3,
   "metadata": {},
   "outputs": [
    {
     "data": {
      "text/html": [
       "<div>\n",
       "<style>\n",
       "    .dataframe thead tr:only-child th {\n",
       "        text-align: right;\n",
       "    }\n",
       "\n",
       "    .dataframe thead th {\n",
       "        text-align: left;\n",
       "    }\n",
       "\n",
       "    .dataframe tbody tr th {\n",
       "        vertical-align: top;\n",
       "    }\n",
       "</style>\n",
       "<table border=\"1\" class=\"dataframe\">\n",
       "  <thead>\n",
       "    <tr style=\"text-align: right;\">\n",
       "      <th></th>\n",
       "      <th>0</th>\n",
       "      <th>1</th>\n",
       "      <th>2</th>\n",
       "      <th>3</th>\n",
       "      <th>4</th>\n",
       "      <th>5</th>\n",
       "      <th>6</th>\n",
       "      <th>7</th>\n",
       "      <th>8</th>\n",
       "      <th>9</th>\n",
       "      <th>...</th>\n",
       "      <th>256</th>\n",
       "      <th>257</th>\n",
       "      <th>258</th>\n",
       "      <th>259</th>\n",
       "      <th>260</th>\n",
       "      <th>261</th>\n",
       "      <th>262</th>\n",
       "      <th>263</th>\n",
       "      <th>264</th>\n",
       "      <th>265</th>\n",
       "    </tr>\n",
       "  </thead>\n",
       "  <tbody>\n",
       "    <tr>\n",
       "      <th>0</th>\n",
       "      <td>0.0</td>\n",
       "      <td>0.0</td>\n",
       "      <td>0.0</td>\n",
       "      <td>0.0</td>\n",
       "      <td>0.0</td>\n",
       "      <td>0.0</td>\n",
       "      <td>1.0</td>\n",
       "      <td>1.0</td>\n",
       "      <td>1.0</td>\n",
       "      <td>1.0</td>\n",
       "      <td>...</td>\n",
       "      <td>1</td>\n",
       "      <td>0</td>\n",
       "      <td>0</td>\n",
       "      <td>0</td>\n",
       "      <td>0</td>\n",
       "      <td>0</td>\n",
       "      <td>0</td>\n",
       "      <td>0</td>\n",
       "      <td>0</td>\n",
       "      <td>0</td>\n",
       "    </tr>\n",
       "    <tr>\n",
       "      <th>1</th>\n",
       "      <td>0.0</td>\n",
       "      <td>0.0</td>\n",
       "      <td>0.0</td>\n",
       "      <td>0.0</td>\n",
       "      <td>0.0</td>\n",
       "      <td>1.0</td>\n",
       "      <td>1.0</td>\n",
       "      <td>1.0</td>\n",
       "      <td>1.0</td>\n",
       "      <td>1.0</td>\n",
       "      <td>...</td>\n",
       "      <td>1</td>\n",
       "      <td>0</td>\n",
       "      <td>0</td>\n",
       "      <td>0</td>\n",
       "      <td>0</td>\n",
       "      <td>0</td>\n",
       "      <td>0</td>\n",
       "      <td>0</td>\n",
       "      <td>0</td>\n",
       "      <td>0</td>\n",
       "    </tr>\n",
       "    <tr>\n",
       "      <th>2</th>\n",
       "      <td>0.0</td>\n",
       "      <td>0.0</td>\n",
       "      <td>0.0</td>\n",
       "      <td>0.0</td>\n",
       "      <td>0.0</td>\n",
       "      <td>0.0</td>\n",
       "      <td>0.0</td>\n",
       "      <td>0.0</td>\n",
       "      <td>0.0</td>\n",
       "      <td>1.0</td>\n",
       "      <td>...</td>\n",
       "      <td>1</td>\n",
       "      <td>0</td>\n",
       "      <td>0</td>\n",
       "      <td>0</td>\n",
       "      <td>0</td>\n",
       "      <td>0</td>\n",
       "      <td>0</td>\n",
       "      <td>0</td>\n",
       "      <td>0</td>\n",
       "      <td>0</td>\n",
       "    </tr>\n",
       "    <tr>\n",
       "      <th>3</th>\n",
       "      <td>0.0</td>\n",
       "      <td>0.0</td>\n",
       "      <td>0.0</td>\n",
       "      <td>0.0</td>\n",
       "      <td>0.0</td>\n",
       "      <td>0.0</td>\n",
       "      <td>1.0</td>\n",
       "      <td>1.0</td>\n",
       "      <td>1.0</td>\n",
       "      <td>1.0</td>\n",
       "      <td>...</td>\n",
       "      <td>1</td>\n",
       "      <td>0</td>\n",
       "      <td>0</td>\n",
       "      <td>0</td>\n",
       "      <td>0</td>\n",
       "      <td>0</td>\n",
       "      <td>0</td>\n",
       "      <td>0</td>\n",
       "      <td>0</td>\n",
       "      <td>0</td>\n",
       "    </tr>\n",
       "    <tr>\n",
       "      <th>4</th>\n",
       "      <td>0.0</td>\n",
       "      <td>0.0</td>\n",
       "      <td>0.0</td>\n",
       "      <td>0.0</td>\n",
       "      <td>0.0</td>\n",
       "      <td>0.0</td>\n",
       "      <td>0.0</td>\n",
       "      <td>0.0</td>\n",
       "      <td>0.0</td>\n",
       "      <td>1.0</td>\n",
       "      <td>...</td>\n",
       "      <td>1</td>\n",
       "      <td>0</td>\n",
       "      <td>0</td>\n",
       "      <td>0</td>\n",
       "      <td>0</td>\n",
       "      <td>0</td>\n",
       "      <td>0</td>\n",
       "      <td>0</td>\n",
       "      <td>0</td>\n",
       "      <td>0</td>\n",
       "    </tr>\n",
       "    <tr>\n",
       "      <th>5</th>\n",
       "      <td>0.0</td>\n",
       "      <td>0.0</td>\n",
       "      <td>0.0</td>\n",
       "      <td>0.0</td>\n",
       "      <td>1.0</td>\n",
       "      <td>1.0</td>\n",
       "      <td>1.0</td>\n",
       "      <td>1.0</td>\n",
       "      <td>1.0</td>\n",
       "      <td>1.0</td>\n",
       "      <td>...</td>\n",
       "      <td>1</td>\n",
       "      <td>0</td>\n",
       "      <td>0</td>\n",
       "      <td>0</td>\n",
       "      <td>0</td>\n",
       "      <td>0</td>\n",
       "      <td>0</td>\n",
       "      <td>0</td>\n",
       "      <td>0</td>\n",
       "      <td>0</td>\n",
       "    </tr>\n",
       "    <tr>\n",
       "      <th>6</th>\n",
       "      <td>0.0</td>\n",
       "      <td>0.0</td>\n",
       "      <td>0.0</td>\n",
       "      <td>0.0</td>\n",
       "      <td>0.0</td>\n",
       "      <td>1.0</td>\n",
       "      <td>1.0</td>\n",
       "      <td>1.0</td>\n",
       "      <td>1.0</td>\n",
       "      <td>1.0</td>\n",
       "      <td>...</td>\n",
       "      <td>1</td>\n",
       "      <td>0</td>\n",
       "      <td>0</td>\n",
       "      <td>0</td>\n",
       "      <td>0</td>\n",
       "      <td>0</td>\n",
       "      <td>0</td>\n",
       "      <td>0</td>\n",
       "      <td>0</td>\n",
       "      <td>0</td>\n",
       "    </tr>\n",
       "    <tr>\n",
       "      <th>7</th>\n",
       "      <td>0.0</td>\n",
       "      <td>0.0</td>\n",
       "      <td>0.0</td>\n",
       "      <td>0.0</td>\n",
       "      <td>1.0</td>\n",
       "      <td>1.0</td>\n",
       "      <td>1.0</td>\n",
       "      <td>1.0</td>\n",
       "      <td>1.0</td>\n",
       "      <td>1.0</td>\n",
       "      <td>...</td>\n",
       "      <td>1</td>\n",
       "      <td>0</td>\n",
       "      <td>0</td>\n",
       "      <td>0</td>\n",
       "      <td>0</td>\n",
       "      <td>0</td>\n",
       "      <td>0</td>\n",
       "      <td>0</td>\n",
       "      <td>0</td>\n",
       "      <td>0</td>\n",
       "    </tr>\n",
       "    <tr>\n",
       "      <th>8</th>\n",
       "      <td>0.0</td>\n",
       "      <td>0.0</td>\n",
       "      <td>0.0</td>\n",
       "      <td>0.0</td>\n",
       "      <td>0.0</td>\n",
       "      <td>1.0</td>\n",
       "      <td>1.0</td>\n",
       "      <td>1.0</td>\n",
       "      <td>1.0</td>\n",
       "      <td>1.0</td>\n",
       "      <td>...</td>\n",
       "      <td>1</td>\n",
       "      <td>0</td>\n",
       "      <td>0</td>\n",
       "      <td>0</td>\n",
       "      <td>0</td>\n",
       "      <td>0</td>\n",
       "      <td>0</td>\n",
       "      <td>0</td>\n",
       "      <td>0</td>\n",
       "      <td>0</td>\n",
       "    </tr>\n",
       "    <tr>\n",
       "      <th>9</th>\n",
       "      <td>0.0</td>\n",
       "      <td>0.0</td>\n",
       "      <td>0.0</td>\n",
       "      <td>1.0</td>\n",
       "      <td>1.0</td>\n",
       "      <td>1.0</td>\n",
       "      <td>1.0</td>\n",
       "      <td>1.0</td>\n",
       "      <td>1.0</td>\n",
       "      <td>1.0</td>\n",
       "      <td>...</td>\n",
       "      <td>1</td>\n",
       "      <td>0</td>\n",
       "      <td>0</td>\n",
       "      <td>0</td>\n",
       "      <td>0</td>\n",
       "      <td>0</td>\n",
       "      <td>0</td>\n",
       "      <td>0</td>\n",
       "      <td>0</td>\n",
       "      <td>0</td>\n",
       "    </tr>\n",
       "  </tbody>\n",
       "</table>\n",
       "<p>10 rows × 266 columns</p>\n",
       "</div>"
      ],
      "text/plain": [
       "   0    1    2    3    4    5    6    7    8    9   ...   256  257  258  259  \\\n",
       "0  0.0  0.0  0.0  0.0  0.0  0.0  1.0  1.0  1.0  1.0 ...     1    0    0    0   \n",
       "1  0.0  0.0  0.0  0.0  0.0  1.0  1.0  1.0  1.0  1.0 ...     1    0    0    0   \n",
       "2  0.0  0.0  0.0  0.0  0.0  0.0  0.0  0.0  0.0  1.0 ...     1    0    0    0   \n",
       "3  0.0  0.0  0.0  0.0  0.0  0.0  1.0  1.0  1.0  1.0 ...     1    0    0    0   \n",
       "4  0.0  0.0  0.0  0.0  0.0  0.0  0.0  0.0  0.0  1.0 ...     1    0    0    0   \n",
       "5  0.0  0.0  0.0  0.0  1.0  1.0  1.0  1.0  1.0  1.0 ...     1    0    0    0   \n",
       "6  0.0  0.0  0.0  0.0  0.0  1.0  1.0  1.0  1.0  1.0 ...     1    0    0    0   \n",
       "7  0.0  0.0  0.0  0.0  1.0  1.0  1.0  1.0  1.0  1.0 ...     1    0    0    0   \n",
       "8  0.0  0.0  0.0  0.0  0.0  1.0  1.0  1.0  1.0  1.0 ...     1    0    0    0   \n",
       "9  0.0  0.0  0.0  1.0  1.0  1.0  1.0  1.0  1.0  1.0 ...     1    0    0    0   \n",
       "\n",
       "   260  261  262  263  264  265  \n",
       "0    0    0    0    0    0    0  \n",
       "1    0    0    0    0    0    0  \n",
       "2    0    0    0    0    0    0  \n",
       "3    0    0    0    0    0    0  \n",
       "4    0    0    0    0    0    0  \n",
       "5    0    0    0    0    0    0  \n",
       "6    0    0    0    0    0    0  \n",
       "7    0    0    0    0    0    0  \n",
       "8    0    0    0    0    0    0  \n",
       "9    0    0    0    0    0    0  \n",
       "\n",
       "[10 rows x 266 columns]"
      ]
     },
     "execution_count": 3,
     "metadata": {},
     "output_type": "execute_result"
    }
   ],
   "source": [
    "#Investigate Data Set, check first 10 rows,\n",
    "raw_data.head(n=10)"
   ]
  },
  {
   "cell_type": "code",
   "execution_count": 4,
   "metadata": {},
   "outputs": [
    {
     "data": {
      "text/plain": [
       "0"
      ]
     },
     "execution_count": 4,
     "metadata": {},
     "output_type": "execute_result"
    }
   ],
   "source": [
    "#Check for is there any missing value in dataset\n",
    "raw_data.isnull().sum().sum()"
   ]
  },
  {
   "cell_type": "code",
   "execution_count": 5,
   "metadata": {},
   "outputs": [
    {
     "data": {
      "text/plain": [
       "(1593, 266)"
      ]
     },
     "execution_count": 5,
     "metadata": {},
     "output_type": "execute_result"
    }
   ],
   "source": [
    "#let's check total row and column number\n",
    "raw_data.shape"
   ]
  },
  {
   "cell_type": "code",
   "execution_count": 6,
   "metadata": {},
   "outputs": [
    {
     "name": "stdout",
     "output_type": "stream",
     "text": [
      "      0    1    2    3    4    5    6    7    8    9   ...   256  257  258  \\\n",
      "0     0.0  0.0  0.0  0.0  0.0  0.0  1.0  1.0  1.0  1.0 ...     1    0    0   \n",
      "1     0.0  0.0  0.0  0.0  0.0  1.0  1.0  1.0  1.0  1.0 ...     1    0    0   \n",
      "2     0.0  0.0  0.0  0.0  0.0  0.0  0.0  0.0  0.0  1.0 ...     1    0    0   \n",
      "3     0.0  0.0  0.0  0.0  0.0  0.0  1.0  1.0  1.0  1.0 ...     1    0    0   \n",
      "4     0.0  0.0  0.0  0.0  0.0  0.0  0.0  0.0  0.0  1.0 ...     1    0    0   \n",
      "5     0.0  0.0  0.0  0.0  1.0  1.0  1.0  1.0  1.0  1.0 ...     1    0    0   \n",
      "6     0.0  0.0  0.0  0.0  0.0  1.0  1.0  1.0  1.0  1.0 ...     1    0    0   \n",
      "7     0.0  0.0  0.0  0.0  1.0  1.0  1.0  1.0  1.0  1.0 ...     1    0    0   \n",
      "8     0.0  0.0  0.0  0.0  0.0  1.0  1.0  1.0  1.0  1.0 ...     1    0    0   \n",
      "9     0.0  0.0  0.0  1.0  1.0  1.0  1.0  1.0  1.0  1.0 ...     1    0    0   \n",
      "10    0.0  0.0  0.0  0.0  1.0  1.0  1.0  1.0  1.0  1.0 ...     1    0    0   \n",
      "11    0.0  0.0  0.0  0.0  0.0  0.0  0.0  0.0  0.0  1.0 ...     1    0    0   \n",
      "12    0.0  0.0  0.0  0.0  0.0  1.0  1.0  1.0  1.0  0.0 ...     1    0    0   \n",
      "13    0.0  0.0  1.0  1.0  1.0  1.0  1.0  1.0  1.0  1.0 ...     1    0    0   \n",
      "14    0.0  0.0  0.0  0.0  0.0  0.0  1.0  1.0  1.0  1.0 ...     1    0    0   \n",
      "15    0.0  0.0  0.0  0.0  1.0  1.0  1.0  1.0  1.0  1.0 ...     1    0    0   \n",
      "16    0.0  0.0  0.0  0.0  0.0  0.0  1.0  1.0  1.0  1.0 ...     1    0    0   \n",
      "17    0.0  0.0  0.0  0.0  0.0  0.0  1.0  1.0  1.0  1.0 ...     1    0    0   \n",
      "18    0.0  0.0  0.0  1.0  1.0  1.0  1.0  1.0  1.0  1.0 ...     1    0    0   \n",
      "19    0.0  0.0  0.0  0.0  0.0  0.0  0.0  0.0  1.0  1.0 ...     1    0    0   \n",
      "20    0.0  0.0  0.0  0.0  0.0  0.0  0.0  0.0  0.0  0.0 ...     0    1    0   \n",
      "21    0.0  0.0  0.0  0.0  0.0  0.0  0.0  0.0  0.0  0.0 ...     0    1    0   \n",
      "22    0.0  0.0  0.0  0.0  0.0  0.0  0.0  0.0  1.0  1.0 ...     0    1    0   \n",
      "23    0.0  0.0  0.0  0.0  0.0  0.0  0.0  0.0  0.0  0.0 ...     0    1    0   \n",
      "24    0.0  0.0  0.0  0.0  0.0  0.0  0.0  0.0  0.0  0.0 ...     0    1    0   \n",
      "25    0.0  0.0  0.0  0.0  0.0  0.0  0.0  0.0  0.0  0.0 ...     0    1    0   \n",
      "26    0.0  0.0  0.0  0.0  0.0  0.0  0.0  0.0  0.0  0.0 ...     0    1    0   \n",
      "27    0.0  0.0  0.0  0.0  0.0  0.0  0.0  0.0  1.0  1.0 ...     0    1    0   \n",
      "28    0.0  0.0  0.0  0.0  0.0  0.0  0.0  0.0  0.0  0.0 ...     0    1    0   \n",
      "29    0.0  0.0  0.0  0.0  0.0  0.0  0.0  0.0  0.0  0.0 ...     0    1    0   \n",
      "...   ...  ...  ...  ...  ...  ...  ...  ...  ...  ... ...   ...  ...  ...   \n",
      "1563  0.0  0.0  1.0  1.0  1.0  1.0  1.0  1.0  1.0  1.0 ...     0    0    0   \n",
      "1564  0.0  0.0  0.0  0.0  0.0  0.0  0.0  0.0  0.0  0.0 ...     0    0    0   \n",
      "1565  0.0  0.0  0.0  0.0  0.0  1.0  1.0  1.0  1.0  1.0 ...     0    0    0   \n",
      "1566  0.0  0.0  0.0  0.0  0.0  0.0  0.0  0.0  1.0  1.0 ...     0    0    0   \n",
      "1567  0.0  0.0  0.0  0.0  0.0  1.0  1.0  1.0  1.0  1.0 ...     0    0    0   \n",
      "1568  0.0  0.0  1.0  1.0  1.0  1.0  1.0  1.0  1.0  1.0 ...     0    0    0   \n",
      "1569  0.0  0.0  0.0  1.0  1.0  1.0  1.0  1.0  1.0  1.0 ...     0    0    0   \n",
      "1570  0.0  0.0  0.0  0.0  0.0  1.0  1.0  1.0  1.0  1.0 ...     0    0    0   \n",
      "1571  0.0  0.0  0.0  0.0  0.0  0.0  0.0  1.0  1.0  1.0 ...     0    0    0   \n",
      "1572  0.0  0.0  0.0  0.0  0.0  1.0  1.0  1.0  1.0  1.0 ...     0    0    0   \n",
      "1573  0.0  0.0  0.0  0.0  1.0  1.0  1.0  1.0  1.0  1.0 ...     0    0    0   \n",
      "1574  0.0  0.0  0.0  0.0  0.0  0.0  1.0  1.0  1.0  1.0 ...     0    0    0   \n",
      "1575  0.0  0.0  0.0  0.0  0.0  0.0  1.0  1.0  1.0  1.0 ...     0    0    0   \n",
      "1576  0.0  0.0  0.0  0.0  0.0  0.0  0.0  0.0  1.0  1.0 ...     0    0    0   \n",
      "1577  1.0  1.0  1.0  1.0  1.0  1.0  1.0  1.0  1.0  1.0 ...     0    0    0   \n",
      "1578  0.0  0.0  0.0  1.0  1.0  1.0  1.0  1.0  1.0  1.0 ...     0    0    0   \n",
      "1579  0.0  0.0  0.0  0.0  0.0  0.0  0.0  1.0  1.0  1.0 ...     0    0    0   \n",
      "1580  0.0  0.0  0.0  1.0  1.0  1.0  1.0  1.0  1.0  1.0 ...     0    0    0   \n",
      "1581  0.0  0.0  0.0  1.0  1.0  1.0  1.0  1.0  1.0  1.0 ...     0    0    0   \n",
      "1582  0.0  0.0  0.0  0.0  0.0  0.0  0.0  1.0  1.0  1.0 ...     0    0    0   \n",
      "1583  0.0  0.0  0.0  0.0  1.0  1.0  1.0  1.0  1.0  1.0 ...     0    0    0   \n",
      "1584  0.0  0.0  0.0  0.0  1.0  1.0  1.0  1.0  1.0  1.0 ...     0    0    0   \n",
      "1585  0.0  0.0  0.0  1.0  1.0  1.0  1.0  1.0  1.0  1.0 ...     0    0    0   \n",
      "1586  0.0  0.0  0.0  0.0  0.0  0.0  0.0  1.0  1.0  1.0 ...     0    0    0   \n",
      "1587  0.0  0.0  0.0  0.0  0.0  0.0  0.0  0.0  1.0  1.0 ...     0    0    0   \n",
      "1588  0.0  0.0  0.0  1.0  1.0  1.0  1.0  1.0  1.0  1.0 ...     0    0    0   \n",
      "1589  0.0  0.0  0.0  1.0  1.0  1.0  1.0  1.0  1.0  1.0 ...     0    0    0   \n",
      "1590  0.0  0.0  1.0  1.0  1.0  1.0  1.0  1.0  1.0  1.0 ...     0    0    0   \n",
      "1591  0.0  1.0  1.0  1.0  1.0  1.0  1.0  1.0  1.0  1.0 ...     0    0    0   \n",
      "1592  0.0  0.0  0.0  0.0  0.0  0.0  1.0  1.0  1.0  1.0 ...     0    0    0   \n",
      "\n",
      "      259  260  261  262  263  264  265  \n",
      "0       0    0    0    0    0    0    0  \n",
      "1       0    0    0    0    0    0    0  \n",
      "2       0    0    0    0    0    0    0  \n",
      "3       0    0    0    0    0    0    0  \n",
      "4       0    0    0    0    0    0    0  \n",
      "5       0    0    0    0    0    0    0  \n",
      "6       0    0    0    0    0    0    0  \n",
      "7       0    0    0    0    0    0    0  \n",
      "8       0    0    0    0    0    0    0  \n",
      "9       0    0    0    0    0    0    0  \n",
      "10      0    0    0    0    0    0    0  \n",
      "11      0    0    0    0    0    0    0  \n",
      "12      0    0    0    0    0    0    0  \n",
      "13      0    0    0    0    0    0    0  \n",
      "14      0    0    0    0    0    0    0  \n",
      "15      0    0    0    0    0    0    0  \n",
      "16      0    0    0    0    0    0    0  \n",
      "17      0    0    0    0    0    0    0  \n",
      "18      0    0    0    0    0    0    0  \n",
      "19      0    0    0    0    0    0    0  \n",
      "20      0    0    0    0    0    0    0  \n",
      "21      0    0    0    0    0    0    0  \n",
      "22      0    0    0    0    0    0    0  \n",
      "23      0    0    0    0    0    0    0  \n",
      "24      0    0    0    0    0    0    0  \n",
      "25      0    0    0    0    0    0    0  \n",
      "26      0    0    0    0    0    0    0  \n",
      "27      0    0    0    0    0    0    0  \n",
      "28      0    0    0    0    0    0    0  \n",
      "29      0    0    0    0    0    0    0  \n",
      "...   ...  ...  ...  ...  ...  ...  ...  \n",
      "1563    0    0    0    0    0    0    1  \n",
      "1564    0    0    0    0    0    0    1  \n",
      "1565    0    0    0    0    0    0    1  \n",
      "1566    0    0    0    0    0    0    1  \n",
      "1567    0    0    0    0    0    0    1  \n",
      "1568    0    0    0    0    0    0    1  \n",
      "1569    0    0    0    0    0    0    1  \n",
      "1570    0    0    0    0    0    0    1  \n",
      "1571    0    0    0    0    0    0    1  \n",
      "1572    0    0    0    0    0    0    1  \n",
      "1573    0    0    0    0    0    0    1  \n",
      "1574    0    0    0    0    0    0    1  \n",
      "1575    0    0    0    0    0    0    1  \n",
      "1576    0    0    0    0    0    0    1  \n",
      "1577    0    0    0    0    0    0    1  \n",
      "1578    0    0    0    0    0    0    1  \n",
      "1579    0    0    0    0    0    0    1  \n",
      "1580    0    0    0    0    0    0    1  \n",
      "1581    0    0    0    0    0    0    1  \n",
      "1582    0    0    0    0    0    0    1  \n",
      "1583    0    0    0    0    0    0    1  \n",
      "1584    0    0    0    0    0    0    1  \n",
      "1585    0    0    0    0    0    0    1  \n",
      "1586    0    0    0    0    0    0    1  \n",
      "1587    0    0    0    0    0    0    1  \n",
      "1588    0    0    0    0    0    0    1  \n",
      "1589    0    0    0    0    0    0    1  \n",
      "1590    0    0    0    0    0    0    1  \n",
      "1591    0    0    0    0    0    0    1  \n",
      "1592    0    0    0    0    0    0    1  \n",
      "\n",
      "[1593 rows x 266 columns]\n"
     ]
    }
   ],
   "source": [
    "#As seen from table raw_datas 0-255 raw indicates image (16x16) and 256 to 265 indicates label. Therefore, these values should\n",
    "#correctly seperated.\n",
    "\n",
    "X = pd.DataFrame(raw_data) # Firstly, it is listed with pandas.dataframe \n",
    "print(X)"
   ]
  },
  {
   "cell_type": "code",
   "execution_count": 7,
   "metadata": {},
   "outputs": [],
   "source": [
    "#Image is seperated from raw data, 256 to 265th columns dropped.\n",
    "train_img = X.drop([256,257,258,259,260,261,262,263,264,265], axis=1)"
   ]
  },
  {
   "cell_type": "code",
   "execution_count": 8,
   "metadata": {},
   "outputs": [
    {
     "name": "stdout",
     "output_type": "stream",
     "text": [
      "      0  1  2  3  4  5  6  7  8  9  dig\n",
      "0     1  0  0  0  0  0  0  0  0  0    0\n",
      "1     1  0  0  0  0  0  0  0  0  0    0\n",
      "2     1  0  0  0  0  0  0  0  0  0    0\n",
      "3     1  0  0  0  0  0  0  0  0  0    0\n",
      "4     1  0  0  0  0  0  0  0  0  0    0\n",
      "5     1  0  0  0  0  0  0  0  0  0    0\n",
      "6     1  0  0  0  0  0  0  0  0  0    0\n",
      "7     1  0  0  0  0  0  0  0  0  0    0\n",
      "8     1  0  0  0  0  0  0  0  0  0    0\n",
      "9     1  0  0  0  0  0  0  0  0  0    0\n",
      "10    1  0  0  0  0  0  0  0  0  0    0\n",
      "11    1  0  0  0  0  0  0  0  0  0    0\n",
      "12    1  0  0  0  0  0  0  0  0  0    0\n",
      "13    1  0  0  0  0  0  0  0  0  0    0\n",
      "14    1  0  0  0  0  0  0  0  0  0    0\n",
      "15    1  0  0  0  0  0  0  0  0  0    0\n",
      "16    1  0  0  0  0  0  0  0  0  0    0\n",
      "17    1  0  0  0  0  0  0  0  0  0    0\n",
      "18    1  0  0  0  0  0  0  0  0  0    0\n",
      "19    1  0  0  0  0  0  0  0  0  0    0\n",
      "20    0  1  0  0  0  0  0  0  0  0    1\n",
      "21    0  1  0  0  0  0  0  0  0  0    1\n",
      "22    0  1  0  0  0  0  0  0  0  0    1\n",
      "23    0  1  0  0  0  0  0  0  0  0    1\n",
      "24    0  1  0  0  0  0  0  0  0  0    1\n",
      "25    0  1  0  0  0  0  0  0  0  0    1\n",
      "26    0  1  0  0  0  0  0  0  0  0    1\n",
      "27    0  1  0  0  0  0  0  0  0  0    1\n",
      "28    0  1  0  0  0  0  0  0  0  0    1\n",
      "29    0  1  0  0  0  0  0  0  0  0    1\n",
      "...  .. .. .. .. .. .. .. .. .. ..  ...\n",
      "1563  0  0  0  0  0  0  0  0  0  1    9\n",
      "1564  0  0  0  0  0  0  0  0  0  1    9\n",
      "1565  0  0  0  0  0  0  0  0  0  1    9\n",
      "1566  0  0  0  0  0  0  0  0  0  1    9\n",
      "1567  0  0  0  0  0  0  0  0  0  1    9\n",
      "1568  0  0  0  0  0  0  0  0  0  1    9\n",
      "1569  0  0  0  0  0  0  0  0  0  1    9\n",
      "1570  0  0  0  0  0  0  0  0  0  1    9\n",
      "1571  0  0  0  0  0  0  0  0  0  1    9\n",
      "1572  0  0  0  0  0  0  0  0  0  1    9\n",
      "1573  0  0  0  0  0  0  0  0  0  1    9\n",
      "1574  0  0  0  0  0  0  0  0  0  1    9\n",
      "1575  0  0  0  0  0  0  0  0  0  1    9\n",
      "1576  0  0  0  0  0  0  0  0  0  1    9\n",
      "1577  0  0  0  0  0  0  0  0  0  1    9\n",
      "1578  0  0  0  0  0  0  0  0  0  1    9\n",
      "1579  0  0  0  0  0  0  0  0  0  1    9\n",
      "1580  0  0  0  0  0  0  0  0  0  1    9\n",
      "1581  0  0  0  0  0  0  0  0  0  1    9\n",
      "1582  0  0  0  0  0  0  0  0  0  1    9\n",
      "1583  0  0  0  0  0  0  0  0  0  1    9\n",
      "1584  0  0  0  0  0  0  0  0  0  1    9\n",
      "1585  0  0  0  0  0  0  0  0  0  1    9\n",
      "1586  0  0  0  0  0  0  0  0  0  1    9\n",
      "1587  0  0  0  0  0  0  0  0  0  1    9\n",
      "1588  0  0  0  0  0  0  0  0  0  1    9\n",
      "1589  0  0  0  0  0  0  0  0  0  1    9\n",
      "1590  0  0  0  0  0  0  0  0  0  1    9\n",
      "1591  0  0  0  0  0  0  0  0  0  1    9\n",
      "1592  0  0  0  0  0  0  0  0  0  1    9\n",
      "\n",
      "[1593 rows x 11 columns]\n"
     ]
    }
   ],
   "source": [
    "#Label is prepared, 256 to 265th columns seperated from raw data\n",
    "label_st1 = pd.DataFrame(raw_data.iloc[:,[256,257,258,259,260,261,262,263,264,265]])\n",
    "\n",
    "#Change labels from 256,257.. to 0,1,2\n",
    "label_st1.rename(columns={256:0, 257:1, 258:2, 259:3, 260:4, 261:5, 262:6, 263:7, 264:8, 265:9 }, inplace=True)\n",
    "\n",
    "#Then create another column to collect label info\n",
    "label_st1['dig'] = label_st1.apply(lambda x: label_st1.columns[x.argmax()], axis = 1)\n",
    "\n",
    "#label is assigned to train_lab\n",
    "train_lab = label_st1['dig']\n",
    "\n",
    "#check for label is correctly assigned\n",
    "print(label_st1)"
   ]
  },
  {
   "cell_type": "code",
   "execution_count": 9,
   "metadata": {},
   "outputs": [
    {
     "data": {
      "text/plain": [
       "(1593, 256)"
      ]
     },
     "execution_count": 9,
     "metadata": {},
     "output_type": "execute_result"
    }
   ],
   "source": [
    "#Then check for size for Image\n",
    "train_img.shape # It is 1593 rows and 256 columns as desired."
   ]
  },
  {
   "cell_type": "code",
   "execution_count": 10,
   "metadata": {},
   "outputs": [
    {
     "data": {
      "text/plain": [
       "(1593,)"
      ]
     },
     "execution_count": 10,
     "metadata": {},
     "output_type": "execute_result"
    }
   ],
   "source": [
    "#Then check for sizes for Label \n",
    "train_lab.shape # It is 1593 rows as expected"
   ]
  },
  {
   "cell_type": "code",
   "execution_count": 11,
   "metadata": {},
   "outputs": [
    {
     "name": "stdout",
     "output_type": "stream",
     "text": [
      "0       0\n",
      "1       0\n",
      "2       0\n",
      "3       0\n",
      "4       0\n",
      "5       0\n",
      "6       0\n",
      "7       0\n",
      "8       0\n",
      "9       0\n",
      "10      0\n",
      "11      0\n",
      "12      0\n",
      "13      0\n",
      "14      0\n",
      "15      0\n",
      "16      0\n",
      "17      0\n",
      "18      0\n",
      "19      0\n",
      "20      1\n",
      "21      1\n",
      "22      1\n",
      "23      1\n",
      "24      1\n",
      "25      1\n",
      "26      1\n",
      "27      1\n",
      "28      1\n",
      "29      1\n",
      "       ..\n",
      "1563    9\n",
      "1564    9\n",
      "1565    9\n",
      "1566    9\n",
      "1567    9\n",
      "1568    9\n",
      "1569    9\n",
      "1570    9\n",
      "1571    9\n",
      "1572    9\n",
      "1573    9\n",
      "1574    9\n",
      "1575    9\n",
      "1576    9\n",
      "1577    9\n",
      "1578    9\n",
      "1579    9\n",
      "1580    9\n",
      "1581    9\n",
      "1582    9\n",
      "1583    9\n",
      "1584    9\n",
      "1585    9\n",
      "1586    9\n",
      "1587    9\n",
      "1588    9\n",
      "1589    9\n",
      "1590    9\n",
      "1591    9\n",
      "1592    9\n",
      "Name: dig, Length: 1593, dtype: int64\n"
     ]
    }
   ],
   "source": [
    "print(train_lab)"
   ]
  },
  {
   "cell_type": "code",
   "execution_count": 12,
   "metadata": {},
   "outputs": [],
   "source": [
    "#Check for some visualizations from dataset\n",
    "def samp_i(train_img, z):\n",
    "  \n",
    "    for i in range(z):\n",
    "        pic = train_img.sample(n=z)\n",
    "        img = pic.iloc[i].as_matrix()\n",
    "        img = img.reshape((16, 16))\n",
    "        plt.figure(figsize = (20,2))\n",
    "        plt.imshow(img,cmap=plt.cm.gray_r)\n",
    "        plt.show()"
   ]
  },
  {
   "cell_type": "code",
   "execution_count": 13,
   "metadata": {},
   "outputs": [
    {
     "data": {
      "image/png": "[encoded data removed]",
      "text/plain": [
       "<matplotlib.figure.Figure at 0x7f9718274400>"
      ]
     },
     "metadata": {},
     "output_type": "display_data"
    },
    {
     "data": {
      "image/png": "[encoded data removed]",
      "text/plain": [
       "<matplotlib.figure.Figure at 0x7f96e77f01d0>"
      ]
     },
     "metadata": {},
     "output_type": "display_data"
    },
    {
     "data": {
      "image/png": "[encoded data removed]",
      "text/plain": [
       "<matplotlib.figure.Figure at 0x7f96e72ad390>"
      ]
     },
     "metadata": {},
     "output_type": "display_data"
    },
    {
     "data": {
      "image/png": "[encoded data removed]",
      "text/plain": [
       "<matplotlib.figure.Figure at 0x7f96e727e390>"
      ]
     },
     "metadata": {},
     "output_type": "display_data"
    },
    {
     "data": {
      "image/png": "[encoded data removed]",
      "text/plain": [
       "<matplotlib.figure.Figure at 0x7f96e723fe10>"
      ]
     },
     "metadata": {},
     "output_type": "display_data"
    },
    {
     "data": {
      "image/png": "[encoded data removed]",
      "text/plain": [
       "<matplotlib.figure.Figure at 0x7f96e719f470>"
      ]
     },
     "metadata": {},
     "output_type": "display_data"
    },
    {
     "data": {
      "image/png": "[encoded data removed]",
      "text/plain": [
       "<matplotlib.figure.Figure at 0x7f96e715f2b0>"
      ]
     },
     "metadata": {},
     "output_type": "display_data"
    },
    {
     "data": {
      "image/png": "[encoded data removed]",
      "text/plain": [
       "<matplotlib.figure.Figure at 0x7f96e712c400>"
      ]
     },
     "metadata": {},
     "output_type": "display_data"
    },
    {
     "data": {
      "image/png": "[encoded data removed]",
      "text/plain": [
       "<matplotlib.figure.Figure at 0x7f96e70fe0b8>"
      ]
     },
     "metadata": {},
     "output_type": "display_data"
    },
    {
     "data": {
      "image/png": "[encoded data removed]",
      "text/plain": [
       "<matplotlib.figure.Figure at 0x7f96e4a914a8>"
      ]
     },
     "metadata": {},
     "output_type": "display_data"
    }
   ],
   "source": [
    "img_number = 10 # Choose how many sample would like to see\n",
    "samp_i(train_img,img_number)"
   ]
  },
  {
   "cell_type": "code",
   "execution_count": 14,
   "metadata": {},
   "outputs": [
    {
     "data": {
      "text/plain": [
       "<matplotlib.axes._subplots.AxesSubplot at 0x7f96e4427390>"
      ]
     },
     "execution_count": 14,
     "metadata": {},
     "output_type": "execute_result"
    },
    {
     "data": {
      "image/png": "[encoded data removed]",
      "text/plain": [
       "<matplotlib.figure.Figure at 0x7f96e4a35550>"
      ]
     },
     "metadata": {},
     "output_type": "display_data"
    }
   ],
   "source": [
    "#To check total number distribution\n",
    "import seaborn as sns\n",
    "sns.countplot(train_lab)"
   ]
  },
  {
   "cell_type": "code",
   "execution_count": 113,
   "metadata": {},
   "outputs": [],
   "source": [
    "#trained images and trained labels are split into training and testing sets. The ratio is choosed in 90% training 10% testing\n",
    "IMG_train, IMG_test, LABEL_train, LABEL_test = train_test_split(train_img,train_lab, test_size=0.1,random_state = 67)"
   ]
  },
  {
   "cell_type": "code",
   "execution_count": 114,
   "metadata": {},
   "outputs": [],
   "source": [
    "#Kernel choosed \"linear\"\n",
    "clf_lin = svm.SVC(kernel='linear')\n",
    "clf_lin = clf_lin.fit(IMG_train, LABEL_train)"
   ]
  },
  {
   "cell_type": "code",
   "execution_count": 115,
   "metadata": {},
   "outputs": [
    {
     "name": "stdout",
     "output_type": "stream",
     "text": [
      "0.95625\n"
     ]
    }
   ],
   "source": [
    "print(clf_lin.score(IMG_test, LABEL_test))"
   ]
  },
  {
   "cell_type": "code",
   "execution_count": 116,
   "metadata": {},
   "outputs": [],
   "source": [
    "#Kernel choosed \"rbf\"\n",
    "clf_rbf = svm.SVC(kernel='rbf')\n",
    "clf_rbf = clf_rbf.fit(IMG_train, LABEL_train)"
   ]
  },
  {
   "cell_type": "code",
   "execution_count": 117,
   "metadata": {},
   "outputs": [
    {
     "name": "stdout",
     "output_type": "stream",
     "text": [
      "0.925\n"
     ]
    }
   ],
   "source": [
    "print(clf_rbf.score(IMG_test, LABEL_test))"
   ]
  },
  {
   "cell_type": "code",
   "execution_count": 118,
   "metadata": {},
   "outputs": [],
   "source": [
    "#Kernel choosed \"poly\" with degree = 2\n",
    "clf_poly = svm.SVC(kernel='poly', degree=2)\n",
    "clf_poly = clf_poly.fit(IMG_train, LABEL_train)"
   ]
  },
  {
   "cell_type": "code",
   "execution_count": 119,
   "metadata": {},
   "outputs": [
    {
     "name": "stdout",
     "output_type": "stream",
     "text": [
      "0.86875\n"
     ]
    }
   ],
   "source": [
    "print(clf_poly.score(IMG_test, LABEL_test))"
   ]
  },
  {
   "cell_type": "code",
   "execution_count": 120,
   "metadata": {},
   "outputs": [],
   "source": [
    "#Kernel choosed \"sigmoid\"\n",
    "clf_sigmoid = svm.SVC(kernel='sigmoid', degree=2)\n",
    "clf_sigmoid = clf_sigmoid.fit(IMG_train, LABEL_train)"
   ]
  },
  {
   "cell_type": "code",
   "execution_count": 121,
   "metadata": {},
   "outputs": [
    {
     "name": "stdout",
     "output_type": "stream",
     "text": [
      "0.9125\n"
     ]
    }
   ],
   "source": [
    "print(clf_sigmoid.score(IMG_test, LABEL_test))"
   ]
  },
  {
   "cell_type": "code",
   "execution_count": 190,
   "metadata": {},
   "outputs": [
    {
     "name": "stdout",
     "output_type": "stream",
     "text": [
      "PCA n components: 0.5\n",
      "SVM with Linear Kernel\n",
      "accuracy: 0.9\n",
      "PCA n components: 0.5155172413793103\n",
      "SVM with Linear Kernel\n",
      "accuracy: 0.9\n",
      "PCA n components: 0.5310344827586206\n",
      "SVM with Linear Kernel\n",
      "accuracy: 0.89375\n",
      "PCA n components: 0.5465517241379311\n",
      "SVM with Linear Kernel\n",
      "accuracy: 0.90625\n",
      "PCA n components: 0.5620689655172414\n",
      "SVM with Linear Kernel\n",
      "accuracy: 0.925\n",
      "PCA n components: 0.5775862068965517\n",
      "SVM with Linear Kernel\n",
      "accuracy: 0.93125\n",
      "PCA n components: 0.593103448275862\n",
      "SVM with Linear Kernel\n",
      "accuracy: 0.93125\n",
      "PCA n components: 0.6086206896551724\n",
      "SVM with Linear Kernel\n",
      "accuracy: 0.94375\n",
      "PCA n components: 0.6241379310344828\n",
      "SVM with Linear Kernel\n",
      "accuracy: 0.9375\n",
      "PCA n components: 0.6396551724137931\n",
      "SVM with Linear Kernel\n",
      "accuracy: 0.89375\n",
      "PCA n components: 0.6551724137931034\n",
      "SVM with Linear Kernel\n",
      "accuracy: 0.925\n",
      "PCA n components: 0.6706896551724137\n",
      "SVM with Linear Kernel\n",
      "accuracy: 0.925\n",
      "PCA n components: 0.6862068965517241\n",
      "SVM with Linear Kernel\n",
      "accuracy: 0.9375\n",
      "PCA n components: 0.7017241379310345\n",
      "SVM with Linear Kernel\n",
      "accuracy: 0.925\n",
      "PCA n components: 0.7172413793103448\n",
      "SVM with Linear Kernel\n",
      "accuracy: 0.95625\n",
      "PCA n components: 0.7327586206896551\n",
      "SVM with Linear Kernel\n",
      "accuracy: 0.95\n",
      "PCA n components: 0.7482758620689655\n",
      "SVM with Linear Kernel\n",
      "accuracy: 0.95\n",
      "PCA n components: 0.7637931034482759\n",
      "SVM with Linear Kernel\n",
      "accuracy: 0.95\n",
      "PCA n components: 0.7793103448275862\n",
      "SVM with Linear Kernel\n",
      "accuracy: 0.95625\n",
      "PCA n components: 0.7948275862068965\n",
      "SVM with Linear Kernel\n",
      "accuracy: 0.95\n",
      "PCA n components: 0.8103448275862069\n",
      "SVM with Linear Kernel\n",
      "accuracy: 0.95625\n",
      "PCA n components: 0.8258620689655172\n",
      "SVM with Linear Kernel\n",
      "accuracy: 0.95\n",
      "PCA n components: 0.8413793103448275\n",
      "SVM with Linear Kernel\n",
      "accuracy: 0.9375\n",
      "PCA n components: 0.8568965517241378\n",
      "SVM with Linear Kernel\n",
      "accuracy: 0.94375\n",
      "PCA n components: 0.8724137931034482\n",
      "SVM with Linear Kernel\n",
      "accuracy: 0.94375\n",
      "PCA n components: 0.8879310344827586\n",
      "SVM with Linear Kernel\n",
      "accuracy: 0.95\n",
      "PCA n components: 0.903448275862069\n",
      "SVM with Linear Kernel\n",
      "accuracy: 0.96875\n",
      "PCA n components: 0.9189655172413793\n",
      "SVM with Linear Kernel\n",
      "accuracy: 0.96875\n",
      "PCA n components: 0.9344827586206896\n",
      "SVM with Linear Kernel\n",
      "accuracy: 0.96875\n",
      "PCA n components: 0.95\n",
      "SVM with Linear Kernel\n",
      "accuracy: 0.96875\n"
     ]
    }
   ],
   "source": [
    "#Check for n components which explain the most variance within the data \n",
    "#(larger eigenvalue means the feature explains more variance).\n",
    "\n",
    "arry = np.linspace(0.50, 0.95, num=30)\n",
    "accuracy = []\n",
    "for n in arry:\n",
    "    start = time.time()\n",
    "    pca = PCA(n_components=n)\n",
    "    print(\"PCA n components: {}\".format(n));\n",
    "    pca.fit(IMG_train)\n",
    "    IMG_train_pca = pca.transform(IMG_train)\n",
    "    IMG_test_pca = pca.transform(IMG_test)\n",
    "    print('SVM with Linear Kernel')\n",
    "    clf1 = svm.SVC(kernel='linear')\n",
    "    clf1.fit(IMG_train_pca, LABEL_train)\n",
    "    tim = clf1.score(IMG_test_pca, LABEL_test)\n",
    "    accuracy.append(tim)\n",
    "    end = time.time()\n",
    "    print(\"accuracy: {}\".format(tim));"
   ]
  },
  {
   "cell_type": "code",
   "execution_count": 191,
   "metadata": {},
   "outputs": [
    {
     "data": {
      "text/plain": [
       "[<matplotlib.lines.Line2D at 0x7f96e36f9e80>]"
      ]
     },
     "execution_count": 191,
     "metadata": {},
     "output_type": "execute_result"
    },
    {
     "data": {
      "image/png": "[encoded data removed]",
      "text/plain": [
       "<matplotlib.figure.Figure at 0x7f96e3805ac8>"
      ]
     },
     "metadata": {},
     "output_type": "display_data"
    }
   ],
   "source": [
    "import matplotlib.pyplot as plt\n",
    "%matplotlib inline\n",
    "plt.plot(arry, np.array(accuracy), 'b-')"
   ]
  },
  {
   "cell_type": "code",
   "execution_count": 192,
   "metadata": {},
   "outputs": [
    {
     "data": {
      "text/plain": [
       "PCA(copy=True, iterated_power='auto', n_components=0.95, random_state=None,\n",
       "  svd_solver='auto', tol=0.0, whiten=False)"
      ]
     },
     "execution_count": 192,
     "metadata": {},
     "output_type": "execute_result"
    }
   ],
   "source": [
    "pca = PCA(n_components=0.95)\n",
    "pca.fit(IMG_train)"
   ]
  },
  {
   "cell_type": "code",
   "execution_count": 193,
   "metadata": {},
   "outputs": [],
   "source": [
    "IMG_train_pca = pca.transform(IMG_train)\n",
    "IMG_test_pca = pca.transform(IMG_test)"
   ]
  },
  {
   "cell_type": "code",
   "execution_count": 194,
   "metadata": {},
   "outputs": [
    {
     "name": "stdout",
     "output_type": "stream",
     "text": [
      "(1433, 159)\n",
      "(160, 159)\n"
     ]
    }
   ],
   "source": [
    "print(IMG_train_pca.shape)\n",
    "print(IMG_test_pca.shape)"
   ]
  },
  {
   "cell_type": "code",
   "execution_count": 196,
   "metadata": {},
   "outputs": [
    {
     "data": {
      "text/plain": [
       "0.96875"
      ]
     },
     "execution_count": 196,
     "metadata": {},
     "output_type": "execute_result"
    }
   ],
   "source": [
    "clf_pca = svm.SVC(kernel='linear')\n",
    "clf_pca.fit(IMG_train_pca, LABEL_train)\n",
    "clf_pca.score(IMG_test_pca, LABEL_test)"
   ]
  },
  {
   "cell_type": "code",
   "execution_count": 197,
   "metadata": {},
   "outputs": [
    {
     "name": "stdout",
     "output_type": "stream",
     "text": [
      "[[17  0  0  0  0  0  0  0  1  0]\n",
      " [ 0 19  0  0  0  0  0  0  0  0]\n",
      " [ 0  0 20  0  0  0  0  0  0  0]\n",
      " [ 0  0  1 12  0  0  0  0  0  1]\n",
      " [ 0  1  0  0 14  0  0  0  0  0]\n",
      " [ 0  0  0  0  0 15  0  0  0  0]\n",
      " [ 0  0  0  0  0  0 13  0  0  0]\n",
      " [ 0  0  0  0  0  0  0 21  0  0]\n",
      " [ 0  0  0  0  0  0  0  0 13  0]\n",
      " [ 0  0  1  0  0  0  0  0  0 11]]\n"
     ]
    }
   ],
   "source": [
    "Predicted = clf_pca.predict(IMG_test_pca)\n",
    "conf = confusion_matrix(LABEL_test, Predicted)\n",
    "print(conf)"
   ]
  },
  {
   "cell_type": "code",
   "execution_count": 202,
   "metadata": {},
   "outputs": [
    {
     "data": {
      "text/plain": [
       "Text(69,0.5,'Actual')"
      ]
     },
     "execution_count": 202,
     "metadata": {},
     "output_type": "execute_result"
    },
    {
     "data": {
      "image/png": "[encoded data removed]",
      "text/plain": [
       "<matplotlib.figure.Figure at 0x7f96e3637b00>"
      ]
     },
     "metadata": {},
     "output_type": "display_data"
    }
   ],
   "source": [
    "labels = [0,1,2,3,4,5,6,7,8,9]\n",
    "heat_conf = pd.DataFrame(conf, index = [i for i in labels],\n",
    "                  columns = [i for i in labels])\n",
    "plt.figure(figsize = (10,8))\n",
    "\n",
    "sns.heatmap(heat_conf, annot=True)\n",
    "plt.xlabel('Predicted', fontsize=10)\n",
    "plt.ylabel('Actual', fontsize=10)"
   ]
  },
  {
   "cell_type": "code",
   "execution_count": 203,
   "metadata": {},
   "outputs": [
    {
     "name": "stdout",
     "output_type": "stream",
     "text": [
      "precision: 0.970645292208\n",
      "recall: 0.96875\n",
      "fbeta: 0.968565674428\n"
     ]
    }
   ],
   "source": [
    "prf = precision_recall_fscore_support(LABEL_test, Predicted, average='weighted')\n",
    "\n",
    "print('precision:',prf[0])\n",
    "print('recall:',prf[1])\n",
    "print('fbeta:',prf[2])"
   ]
  },
  {
   "cell_type": "code",
   "execution_count": 204,
   "metadata": {},
   "outputs": [
    {
     "data": {
      "text/html": [
       "<div>\n",
       "<style>\n",
       "    .dataframe thead tr:only-child th {\n",
       "        text-align: right;\n",
       "    }\n",
       "\n",
       "    .dataframe thead th {\n",
       "        text-align: left;\n",
       "    }\n",
       "\n",
       "    .dataframe tbody tr th {\n",
       "        vertical-align: top;\n",
       "    }\n",
       "</style>\n",
       "<table border=\"1\" class=\"dataframe\">\n",
       "  <thead>\n",
       "    <tr style=\"text-align: right;\">\n",
       "      <th></th>\n",
       "      <th>0</th>\n",
       "      <th>1</th>\n",
       "      <th>2</th>\n",
       "      <th>3</th>\n",
       "      <th>4</th>\n",
       "      <th>5</th>\n",
       "      <th>6</th>\n",
       "      <th>7</th>\n",
       "      <th>8</th>\n",
       "      <th>9</th>\n",
       "      <th>...</th>\n",
       "      <th>246</th>\n",
       "      <th>247</th>\n",
       "      <th>248</th>\n",
       "      <th>249</th>\n",
       "      <th>250</th>\n",
       "      <th>251</th>\n",
       "      <th>252</th>\n",
       "      <th>253</th>\n",
       "      <th>254</th>\n",
       "      <th>255</th>\n",
       "    </tr>\n",
       "  </thead>\n",
       "  <tbody>\n",
       "    <tr>\n",
       "      <th>1380</th>\n",
       "      <td>0.0</td>\n",
       "      <td>0.0</td>\n",
       "      <td>1.0</td>\n",
       "      <td>1.0</td>\n",
       "      <td>0.0</td>\n",
       "      <td>0.0</td>\n",
       "      <td>0.0</td>\n",
       "      <td>0.0</td>\n",
       "      <td>0.0</td>\n",
       "      <td>0.0</td>\n",
       "      <td>...</td>\n",
       "      <td>1.0</td>\n",
       "      <td>1.0</td>\n",
       "      <td>1.0</td>\n",
       "      <td>1.0</td>\n",
       "      <td>0.0</td>\n",
       "      <td>0.0</td>\n",
       "      <td>0.0</td>\n",
       "      <td>0.0</td>\n",
       "      <td>0.0</td>\n",
       "      <td>0.0</td>\n",
       "    </tr>\n",
       "    <tr>\n",
       "      <th>881</th>\n",
       "      <td>0.0</td>\n",
       "      <td>0.0</td>\n",
       "      <td>0.0</td>\n",
       "      <td>0.0</td>\n",
       "      <td>1.0</td>\n",
       "      <td>1.0</td>\n",
       "      <td>1.0</td>\n",
       "      <td>1.0</td>\n",
       "      <td>1.0</td>\n",
       "      <td>1.0</td>\n",
       "      <td>...</td>\n",
       "      <td>0.0</td>\n",
       "      <td>0.0</td>\n",
       "      <td>0.0</td>\n",
       "      <td>0.0</td>\n",
       "      <td>0.0</td>\n",
       "      <td>0.0</td>\n",
       "      <td>0.0</td>\n",
       "      <td>1.0</td>\n",
       "      <td>1.0</td>\n",
       "      <td>0.0</td>\n",
       "    </tr>\n",
       "    <tr>\n",
       "      <th>685</th>\n",
       "      <td>0.0</td>\n",
       "      <td>0.0</td>\n",
       "      <td>0.0</td>\n",
       "      <td>0.0</td>\n",
       "      <td>0.0</td>\n",
       "      <td>0.0</td>\n",
       "      <td>0.0</td>\n",
       "      <td>0.0</td>\n",
       "      <td>1.0</td>\n",
       "      <td>1.0</td>\n",
       "      <td>...</td>\n",
       "      <td>0.0</td>\n",
       "      <td>0.0</td>\n",
       "      <td>0.0</td>\n",
       "      <td>0.0</td>\n",
       "      <td>1.0</td>\n",
       "      <td>1.0</td>\n",
       "      <td>1.0</td>\n",
       "      <td>1.0</td>\n",
       "      <td>0.0</td>\n",
       "      <td>0.0</td>\n",
       "    </tr>\n",
       "    <tr>\n",
       "      <th>932</th>\n",
       "      <td>1.0</td>\n",
       "      <td>1.0</td>\n",
       "      <td>1.0</td>\n",
       "      <td>1.0</td>\n",
       "      <td>1.0</td>\n",
       "      <td>1.0</td>\n",
       "      <td>1.0</td>\n",
       "      <td>1.0</td>\n",
       "      <td>1.0</td>\n",
       "      <td>1.0</td>\n",
       "      <td>...</td>\n",
       "      <td>1.0</td>\n",
       "      <td>1.0</td>\n",
       "      <td>1.0</td>\n",
       "      <td>1.0</td>\n",
       "      <td>1.0</td>\n",
       "      <td>1.0</td>\n",
       "      <td>1.0</td>\n",
       "      <td>0.0</td>\n",
       "      <td>0.0</td>\n",
       "      <td>0.0</td>\n",
       "    </tr>\n",
       "    <tr>\n",
       "      <th>1240</th>\n",
       "      <td>0.0</td>\n",
       "      <td>0.0</td>\n",
       "      <td>0.0</td>\n",
       "      <td>0.0</td>\n",
       "      <td>0.0</td>\n",
       "      <td>0.0</td>\n",
       "      <td>0.0</td>\n",
       "      <td>0.0</td>\n",
       "      <td>0.0</td>\n",
       "      <td>0.0</td>\n",
       "      <td>...</td>\n",
       "      <td>0.0</td>\n",
       "      <td>0.0</td>\n",
       "      <td>0.0</td>\n",
       "      <td>0.0</td>\n",
       "      <td>0.0</td>\n",
       "      <td>0.0</td>\n",
       "      <td>0.0</td>\n",
       "      <td>0.0</td>\n",
       "      <td>0.0</td>\n",
       "      <td>0.0</td>\n",
       "    </tr>\n",
       "  </tbody>\n",
       "</table>\n",
       "<p>5 rows × 256 columns</p>\n",
       "</div>"
      ],
      "text/plain": [
       "      0    1    2    3    4    5    6    7    8    9   ...   246  247  248  \\\n",
       "1380  0.0  0.0  1.0  1.0  0.0  0.0  0.0  0.0  0.0  0.0 ...   1.0  1.0  1.0   \n",
       "881   0.0  0.0  0.0  0.0  1.0  1.0  1.0  1.0  1.0  1.0 ...   0.0  0.0  0.0   \n",
       "685   0.0  0.0  0.0  0.0  0.0  0.0  0.0  0.0  1.0  1.0 ...   0.0  0.0  0.0   \n",
       "932   1.0  1.0  1.0  1.0  1.0  1.0  1.0  1.0  1.0  1.0 ...   1.0  1.0  1.0   \n",
       "1240  0.0  0.0  0.0  0.0  0.0  0.0  0.0  0.0  0.0  0.0 ...   0.0  0.0  0.0   \n",
       "\n",
       "      249  250  251  252  253  254  255  \n",
       "1380  1.0  0.0  0.0  0.0  0.0  0.0  0.0  \n",
       "881   0.0  0.0  0.0  0.0  1.0  1.0  0.0  \n",
       "685   0.0  1.0  1.0  1.0  1.0  0.0  0.0  \n",
       "932   1.0  1.0  1.0  1.0  0.0  0.0  0.0  \n",
       "1240  0.0  0.0  0.0  0.0  0.0  0.0  0.0  \n",
       "\n",
       "[5 rows x 256 columns]"
      ]
     },
     "execution_count": 204,
     "metadata": {},
     "output_type": "execute_result"
    }
   ],
   "source": [
    "IMG_test.head()"
   ]
  },
  {
   "cell_type": "code",
   "execution_count": 205,
   "metadata": {},
   "outputs": [
    {
     "data": {
      "text/plain": [
       "1380    4\n",
       "881     2\n",
       "685     4\n",
       "932     3\n",
       "1240    1\n",
       "Name: dig, dtype: int64"
      ]
     },
     "execution_count": 205,
     "metadata": {},
     "output_type": "execute_result"
    }
   ],
   "source": [
    "LABEL_test[:5]"
   ]
  },
  {
   "cell_type": "code",
   "execution_count": 206,
   "metadata": {},
   "outputs": [
    {
     "data": {
      "text/html": [
       "<div>\n",
       "<style>\n",
       "    .dataframe thead tr:only-child th {\n",
       "        text-align: right;\n",
       "    }\n",
       "\n",
       "    .dataframe thead th {\n",
       "        text-align: left;\n",
       "    }\n",
       "\n",
       "    .dataframe tbody tr th {\n",
       "        vertical-align: top;\n",
       "    }\n",
       "</style>\n",
       "<table border=\"1\" class=\"dataframe\">\n",
       "  <thead>\n",
       "    <tr style=\"text-align: right;\">\n",
       "      <th></th>\n",
       "      <th>dig</th>\n",
       "    </tr>\n",
       "  </thead>\n",
       "  <tbody>\n",
       "    <tr>\n",
       "      <th>1380</th>\n",
       "      <td>4</td>\n",
       "    </tr>\n",
       "    <tr>\n",
       "      <th>881</th>\n",
       "      <td>2</td>\n",
       "    </tr>\n",
       "    <tr>\n",
       "      <th>685</th>\n",
       "      <td>4</td>\n",
       "    </tr>\n",
       "    <tr>\n",
       "      <th>932</th>\n",
       "      <td>3</td>\n",
       "    </tr>\n",
       "    <tr>\n",
       "      <th>1240</th>\n",
       "      <td>1</td>\n",
       "    </tr>\n",
       "  </tbody>\n",
       "</table>\n",
       "</div>"
      ],
      "text/plain": [
       "      dig\n",
       "1380    4\n",
       "881     2\n",
       "685     4\n",
       "932     3\n",
       "1240    1"
      ]
     },
     "execution_count": 206,
     "metadata": {},
     "output_type": "execute_result"
    }
   ],
   "source": [
    "LABEL_test_df = LABEL_test.to_frame()\n",
    "LABEL_test_df.head()"
   ]
  },
  {
   "cell_type": "code",
   "execution_count": 207,
   "metadata": {},
   "outputs": [
    {
     "data": {
      "text/html": [
       "<div>\n",
       "<style>\n",
       "    .dataframe thead tr:only-child th {\n",
       "        text-align: right;\n",
       "    }\n",
       "\n",
       "    .dataframe thead th {\n",
       "        text-align: left;\n",
       "    }\n",
       "\n",
       "    .dataframe tbody tr th {\n",
       "        vertical-align: top;\n",
       "    }\n",
       "</style>\n",
       "<table border=\"1\" class=\"dataframe\">\n",
       "  <thead>\n",
       "    <tr style=\"text-align: right;\">\n",
       "      <th></th>\n",
       "      <th>dig</th>\n",
       "      <th>IMG_test_pca</th>\n",
       "    </tr>\n",
       "  </thead>\n",
       "  <tbody>\n",
       "    <tr>\n",
       "      <th>1380</th>\n",
       "      <td>4</td>\n",
       "      <td>4</td>\n",
       "    </tr>\n",
       "    <tr>\n",
       "      <th>881</th>\n",
       "      <td>2</td>\n",
       "      <td>2</td>\n",
       "    </tr>\n",
       "    <tr>\n",
       "      <th>685</th>\n",
       "      <td>4</td>\n",
       "      <td>4</td>\n",
       "    </tr>\n",
       "    <tr>\n",
       "      <th>932</th>\n",
       "      <td>3</td>\n",
       "      <td>3</td>\n",
       "    </tr>\n",
       "    <tr>\n",
       "      <th>1240</th>\n",
       "      <td>1</td>\n",
       "      <td>1</td>\n",
       "    </tr>\n",
       "  </tbody>\n",
       "</table>\n",
       "</div>"
      ],
      "text/plain": [
       "      dig  IMG_test_pca\n",
       "1380    4             4\n",
       "881     2             2\n",
       "685     4             4\n",
       "932     3             3\n",
       "1240    1             1"
      ]
     },
     "execution_count": 207,
     "metadata": {},
     "output_type": "execute_result"
    }
   ],
   "source": [
    "LABEL_test_df['IMG_test_pca'] = pd.Series(Predicted, index=LABEL_test_df.index)\n",
    "LABEL_test_df.head()"
   ]
  },
  {
   "cell_type": "code",
   "execution_count": 213,
   "metadata": {},
   "outputs": [
    {
     "data": {
      "text/html": [
       "<div>\n",
       "<style>\n",
       "    .dataframe thead tr:only-child th {\n",
       "        text-align: right;\n",
       "    }\n",
       "\n",
       "    .dataframe thead th {\n",
       "        text-align: left;\n",
       "    }\n",
       "\n",
       "    .dataframe tbody tr th {\n",
       "        vertical-align: top;\n",
       "    }\n",
       "</style>\n",
       "<table border=\"1\" class=\"dataframe\">\n",
       "  <thead>\n",
       "    <tr style=\"text-align: right;\">\n",
       "      <th></th>\n",
       "      <th>dig</th>\n",
       "      <th>IMG_test_pca</th>\n",
       "    </tr>\n",
       "  </thead>\n",
       "  <tbody>\n",
       "    <tr>\n",
       "      <th>1172</th>\n",
       "      <td>9</td>\n",
       "      <td>2</td>\n",
       "    </tr>\n",
       "    <tr>\n",
       "      <th>682</th>\n",
       "      <td>4</td>\n",
       "      <td>1</td>\n",
       "    </tr>\n",
       "    <tr>\n",
       "      <th>1196</th>\n",
       "      <td>0</td>\n",
       "      <td>8</td>\n",
       "    </tr>\n",
       "    <tr>\n",
       "      <th>469</th>\n",
       "      <td>3</td>\n",
       "      <td>2</td>\n",
       "    </tr>\n",
       "    <tr>\n",
       "      <th>935</th>\n",
       "      <td>3</td>\n",
       "      <td>9</td>\n",
       "    </tr>\n",
       "  </tbody>\n",
       "</table>\n",
       "</div>"
      ],
      "text/plain": [
       "      dig  IMG_test_pca\n",
       "1172    9             2\n",
       "682     4             1\n",
       "1196    0             8\n",
       "469     3             2\n",
       "935     3             9"
      ]
     },
     "execution_count": 213,
     "metadata": {},
     "output_type": "execute_result"
    }
   ],
   "source": [
    "#Check for the false predictions\n",
    "False_predictions = LABEL_test_df.index[LABEL_test_df.dig != LABEL_test_df.IMG_test_pca]\n",
    "LABEL_test_df.ix[False_predictions]"
   ]
  },
  {
   "cell_type": "code",
   "execution_count": 214,
   "metadata": {},
   "outputs": [],
   "source": [
    "#Visual observation for false predicted images\n",
    "\n",
    "def false_image (index_num):\n",
    "    one_row = X.ix[index_num] # get the record from the X dataset\n",
    "    one_values = one_row.values # convert the series to a numpy array\n",
    "        \n",
    "    i = 16 # values in one array\n",
    "    j = 0\n",
    "    img = np.array(one_values[:16])\n",
    "    while i <= len(one_values):\n",
    "        temp_array = np.array(one_values[j:i])\n",
    "        img = np.vstack((img,temp_array))\n",
    "        j = i   \n",
    "        i += 16\n",
    "\n",
    "    # Plot image\n",
    "    plt.imshow(img,cmap=plt.cm.gray_r,interpolation=\"nearest\")\n",
    "    plt.show()\n",
    "    \n",
    "    print (LABEL_test_df.ix[index_num]) \n",
    "    return"
   ]
  },
  {
   "cell_type": "code",
   "execution_count": 215,
   "metadata": {},
   "outputs": [
    {
     "data": {
      "image/png": "[encoded data removed]",
      "text/plain": [
       "<matplotlib.figure.Figure at 0x7f96e2db80f0>"
      ]
     },
     "metadata": {},
     "output_type": "display_data"
    },
    {
     "name": "stdout",
     "output_type": "stream",
     "text": [
      "dig             9\n",
      "IMG_test_pca    2\n",
      "Name: 1172, dtype: int64\n"
     ]
    },
    {
     "data": {
      "image/png": "[encoded data removed]",
      "text/plain": [
       "<matplotlib.figure.Figure at 0x7f96e2c7f8d0>"
      ]
     },
     "metadata": {},
     "output_type": "display_data"
    },
    {
     "name": "stdout",
     "output_type": "stream",
     "text": [
      "dig             4\n",
      "IMG_test_pca    1\n",
      "Name: 682, dtype: int64\n"
     ]
    },
    {
     "data": {
      "image/png": "[encoded data removed]",
      "text/plain": [
       "<matplotlib.figure.Figure at 0x7f96e2c7fb38>"
      ]
     },
     "metadata": {},
     "output_type": "display_data"
    },
    {
     "name": "stdout",
     "output_type": "stream",
     "text": [
      "dig             0\n",
      "IMG_test_pca    8\n",
      "Name: 1196, dtype: int64\n"
     ]
    },
    {
     "data": {
      "image/png": "[encoded data removed]",
      "text/plain": [
       "<matplotlib.figure.Figure at 0x7f96e2e62da0>"
      ]
     },
     "metadata": {},
     "output_type": "display_data"
    },
    {
     "name": "stdout",
     "output_type": "stream",
     "text": [
      "dig             3\n",
      "IMG_test_pca    2\n",
      "Name: 469, dtype: int64\n"
     ]
    },
    {
     "data": {
      "image/png": "[encoded data removed]",
      "text/plain": [
       "<matplotlib.figure.Figure at 0x7f96e32df320>"
      ]
     },
     "metadata": {},
     "output_type": "display_data"
    },
    {
     "name": "stdout",
     "output_type": "stream",
     "text": [
      "dig             3\n",
      "IMG_test_pca    9\n",
      "Name: 935, dtype: int64\n"
     ]
    }
   ],
   "source": [
    "l=0\n",
    "while l <= len(False_predictions)-1:\n",
    "    false_image (False_predictions[l])\n",
    "    l+=1"
   ]
  },
  {
   "cell_type": "code",
   "execution_count": null,
   "metadata": {},
   "outputs": [],
   "source": []
  }
 ],
 "metadata": {
  "kernelspec": {
   "display_name": "Python 3",
   "language": "python",
   "name": "python3"
  },
  "language_info": {
   "codemirror_mode": {
    "name": "ipython",
    "version": 3
   },
   "file_extension": ".py",
   "mimetype": "text/x-python",
   "name": "python",
   "nbconvert_exporter": "python",
   "pygments_lexer": "ipython3",
   "version": "3.6.3"
  }
 },
 "nbformat": 4,
 "nbformat_minor": 2
}
